import pandas as pd
import numpy as np
import matplotlib.pyplot as plt
import seaborn as sns


# Reading the file (Download the dataset and import it)
df=pd.read_csv('C:/Users/Ahmed Ali Abbasi/Downloads/VideoGamesSalesRawData.csv')

#Checking for duplicates
#df=df[df.duplicated()]
#df.shape[0]

# Remvoing duplicates
df = df.drop_duplicates()
df['Region'] = df['Region'].fillna('North')
df['Publisher'] = df['Publisher'].fillna('Universal')

# Checking if NULL values in Region are gone
#df = df[df['Region'].isnull()]
#df.shape[0]

#Replacing $ sign from some data entries under NA_Sales
df['NA_Sales'] = df['NA_Sales'].replace('[$]', '', regex=True)

# Making data clean by all replacing USA with United States and case sensitive
df['Country'] = df['Country'].replace({'USA': 'United States'})
df['Country'] = df['Country'].str.title()

# Renaming some columns
df = df.rename(columns={'NA_Sales': 'National Sales', 'Global_Sales': 'Global Sales', 'NA_Profit': 'National Profit', 'Global_Profit': 'Global Profit'})
df

# Create a bar chart
National_Profit = df.groupby(['Region', 'Country'])['National Profit'].sum().reset_index()
National_Profit

plt.figure(figsize=(16, 8))
sns.barplot(data=National_Profit, x='Region', y='National Profit', hue='Country')
plt.title('National Profit by Region and Country', fontweight='bold')
plt.xlabel('Region', fontweight='bold')
plt.ylabel('National Profit', fontweight='bold')
plt.show()

# Create a pie chart
Sales = df.groupby(['Country'])[['National Profit','Global Profit']].sum().reset_index()
Country=Sales['Country']
National_Profit=Sales['National Profit']
Global_Profit=Sales['Global Profit']

fig, axs = plt.subplots(1, 2, figsize=(10, 7))

axs[0].pie(National_Profit, labels=Country, autopct='1%.1f%%', startangle=90)
axs[0].set_title('National Profit by Country')

axs[1].pie(Global_Profit, labels=Country, autopct='1%.1f%%', startangle=90)
axs[1].set_title('Global Profit by Country')

plt.show()

